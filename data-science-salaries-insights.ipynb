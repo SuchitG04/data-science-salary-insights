{
 "cells": [
  {
   "cell_type": "markdown",
   "id": "135024be",
   "metadata": {
    "papermill": {
     "duration": 0.007004,
     "end_time": "2023-04-29T14:45:55.219099",
     "exception": false,
     "start_time": "2023-04-29T14:45:55.212095",
     "status": "completed"
    },
    "tags": []
   },
   "source": [
    "# About\n",
    "#### This notebook is a practice project I did after completing the Data Visualization course by Kaggle. I included only those visualizations that'll entice beginners into Data Science ;)\n",
    "#### I've learnt some Pandas functions from other excellent notebooks under this dataset, so credit to them. I'm really proud of how I picked up basics of Pandas along the way by only referring the documentation and stackoverflow."
   ]
  },
  {
   "cell_type": "markdown",
   "id": "a19f9abb",
   "metadata": {
    "papermill": {
     "duration": 0.005542,
     "end_time": "2023-04-29T14:45:55.230773",
     "exception": false,
     "start_time": "2023-04-29T14:45:55.225231",
     "status": "completed"
    },
    "tags": []
   },
   "source": [
    "## 1. Importing modules"
   ]
  },
  {
   "cell_type": "code",
   "execution_count": 1,
   "id": "e60fc6fb",
   "metadata": {
    "execution": {
     "iopub.execute_input": "2023-04-29T14:45:55.244715Z",
     "iopub.status.busy": "2023-04-29T14:45:55.244234Z",
     "iopub.status.idle": "2023-04-29T14:46:08.125659Z",
     "shell.execute_reply": "2023-04-29T14:46:08.124182Z"
    },
    "papermill": {
     "duration": 12.891905,
     "end_time": "2023-04-29T14:46:08.128727",
     "exception": false,
     "start_time": "2023-04-29T14:45:55.236822",
     "status": "completed"
    },
    "tags": []
   },
   "outputs": [],
   "source": [
    "!pip install -Uqq pandas"
   ]
  },
  {
   "cell_type": "code",
   "execution_count": 2,
   "id": "8dba0ab3",
   "metadata": {
    "_cell_guid": "b1076dfc-b9ad-4769-8c92-a6c4dae69d19",
    "_uuid": "8f2839f25d086af736a60e9eeb907d3b93b6e0e5",
    "execution": {
     "iopub.execute_input": "2023-04-29T14:46:08.142972Z",
     "iopub.status.busy": "2023-04-29T14:46:08.142489Z",
     "iopub.status.idle": "2023-04-29T14:46:09.487131Z",
     "shell.execute_reply": "2023-04-29T14:46:09.486008Z"
    },
    "papermill": {
     "duration": 1.355535,
     "end_time": "2023-04-29T14:46:09.490221",
     "exception": false,
     "start_time": "2023-04-29T14:46:08.134686",
     "status": "completed"
    },
    "tags": []
   },
   "outputs": [],
   "source": [
    "import pandas as pd\n",
    "import numpy as np\n",
    "pd.plotting.register_matplotlib_converters()\n",
    "import matplotlib.pyplot as plt\n",
    "%matplotlib inline\n",
    "import seaborn as sns"
   ]
  },
  {
   "cell_type": "markdown",
   "id": "8cc708cc",
   "metadata": {
    "papermill": {
     "duration": 0.005774,
     "end_time": "2023-04-29T14:46:09.501939",
     "exception": false,
     "start_time": "2023-04-29T14:46:09.496165",
     "status": "completed"
    },
    "tags": []
   },
   "source": [
    "## 2. Seeing how the data looks"
   ]
  },
  {
   "cell_type": "code",
   "execution_count": 3,
   "id": "318267be",
   "metadata": {
    "execution": {
     "iopub.execute_input": "2023-04-29T14:46:09.516304Z",
     "iopub.status.busy": "2023-04-29T14:46:09.515334Z",
     "iopub.status.idle": "2023-04-29T14:46:09.520822Z",
     "shell.execute_reply": "2023-04-29T14:46:09.519669Z"
    },
    "papermill": {
     "duration": 0.015143,
     "end_time": "2023-04-29T14:46:09.523184",
     "exception": false,
     "start_time": "2023-04-29T14:46:09.508041",
     "status": "completed"
    },
    "tags": []
   },
   "outputs": [],
   "source": [
    "dataFilepath = \"../input/data-science-salaries-2023/ds_salaries.csv\""
   ]
  },
  {
   "cell_type": "code",
   "execution_count": 4,
   "id": "c5e24b56",
   "metadata": {
    "execution": {
     "iopub.execute_input": "2023-04-29T14:46:09.537396Z",
     "iopub.status.busy": "2023-04-29T14:46:09.536562Z",
     "iopub.status.idle": "2023-04-29T14:46:09.568373Z",
     "shell.execute_reply": "2023-04-29T14:46:09.567298Z"
    },
    "papermill": {
     "duration": 0.041929,
     "end_time": "2023-04-29T14:46:09.570989",
     "exception": false,
     "start_time": "2023-04-29T14:46:09.529060",
     "status": "completed"
    },
    "tags": []
   },
   "outputs": [],
   "source": [
    "data = pd.read_csv(dataFilepath)"
   ]
  },
  {
   "cell_type": "code",
   "execution_count": 5,
   "id": "b34170a1",
   "metadata": {
    "execution": {
     "iopub.execute_input": "2023-04-29T14:46:09.585047Z",
     "iopub.status.busy": "2023-04-29T14:46:09.584578Z",
     "iopub.status.idle": "2023-04-29T14:46:09.619152Z",
     "shell.execute_reply": "2023-04-29T14:46:09.617856Z"
    },
    "papermill": {
     "duration": 0.044747,
     "end_time": "2023-04-29T14:46:09.621649",
     "exception": false,
     "start_time": "2023-04-29T14:46:09.576902",
     "status": "completed"
    },
    "tags": []
   },
   "outputs": [
    {
     "data": {
      "text/html": [
       "<div>\n",
       "<style scoped>\n",
       "    .dataframe tbody tr th:only-of-type {\n",
       "        vertical-align: middle;\n",
       "    }\n",
       "\n",
       "    .dataframe tbody tr th {\n",
       "        vertical-align: top;\n",
       "    }\n",
       "\n",
       "    .dataframe thead th {\n",
       "        text-align: right;\n",
       "    }\n",
       "</style>\n",
       "<table border=\"1\" class=\"dataframe\">\n",
       "  <thead>\n",
       "    <tr style=\"text-align: right;\">\n",
       "      <th></th>\n",
       "      <th>work_year</th>\n",
       "      <th>experience_level</th>\n",
       "      <th>employment_type</th>\n",
       "      <th>job_title</th>\n",
       "      <th>salary</th>\n",
       "      <th>salary_currency</th>\n",
       "      <th>salary_in_usd</th>\n",
       "      <th>employee_residence</th>\n",
       "      <th>remote_ratio</th>\n",
       "      <th>company_location</th>\n",
       "      <th>company_size</th>\n",
       "    </tr>\n",
       "  </thead>\n",
       "  <tbody>\n",
       "    <tr>\n",
       "      <th>0</th>\n",
       "      <td>2023</td>\n",
       "      <td>SE</td>\n",
       "      <td>FT</td>\n",
       "      <td>Principal Data Scientist</td>\n",
       "      <td>80000</td>\n",
       "      <td>EUR</td>\n",
       "      <td>85847</td>\n",
       "      <td>ES</td>\n",
       "      <td>100</td>\n",
       "      <td>ES</td>\n",
       "      <td>L</td>\n",
       "    </tr>\n",
       "    <tr>\n",
       "      <th>1</th>\n",
       "      <td>2023</td>\n",
       "      <td>MI</td>\n",
       "      <td>CT</td>\n",
       "      <td>ML Engineer</td>\n",
       "      <td>30000</td>\n",
       "      <td>USD</td>\n",
       "      <td>30000</td>\n",
       "      <td>US</td>\n",
       "      <td>100</td>\n",
       "      <td>US</td>\n",
       "      <td>S</td>\n",
       "    </tr>\n",
       "    <tr>\n",
       "      <th>2</th>\n",
       "      <td>2023</td>\n",
       "      <td>MI</td>\n",
       "      <td>CT</td>\n",
       "      <td>ML Engineer</td>\n",
       "      <td>25500</td>\n",
       "      <td>USD</td>\n",
       "      <td>25500</td>\n",
       "      <td>US</td>\n",
       "      <td>100</td>\n",
       "      <td>US</td>\n",
       "      <td>S</td>\n",
       "    </tr>\n",
       "    <tr>\n",
       "      <th>3</th>\n",
       "      <td>2023</td>\n",
       "      <td>SE</td>\n",
       "      <td>FT</td>\n",
       "      <td>Data Scientist</td>\n",
       "      <td>175000</td>\n",
       "      <td>USD</td>\n",
       "      <td>175000</td>\n",
       "      <td>CA</td>\n",
       "      <td>100</td>\n",
       "      <td>CA</td>\n",
       "      <td>M</td>\n",
       "    </tr>\n",
       "    <tr>\n",
       "      <th>4</th>\n",
       "      <td>2023</td>\n",
       "      <td>SE</td>\n",
       "      <td>FT</td>\n",
       "      <td>Data Scientist</td>\n",
       "      <td>120000</td>\n",
       "      <td>USD</td>\n",
       "      <td>120000</td>\n",
       "      <td>CA</td>\n",
       "      <td>100</td>\n",
       "      <td>CA</td>\n",
       "      <td>M</td>\n",
       "    </tr>\n",
       "  </tbody>\n",
       "</table>\n",
       "</div>"
      ],
      "text/plain": [
       "   work_year experience_level employment_type                 job_title  \\\n",
       "0       2023               SE              FT  Principal Data Scientist   \n",
       "1       2023               MI              CT               ML Engineer   \n",
       "2       2023               MI              CT               ML Engineer   \n",
       "3       2023               SE              FT            Data Scientist   \n",
       "4       2023               SE              FT            Data Scientist   \n",
       "\n",
       "   salary salary_currency  salary_in_usd employee_residence  remote_ratio  \\\n",
       "0   80000             EUR          85847                 ES           100   \n",
       "1   30000             USD          30000                 US           100   \n",
       "2   25500             USD          25500                 US           100   \n",
       "3  175000             USD         175000                 CA           100   \n",
       "4  120000             USD         120000                 CA           100   \n",
       "\n",
       "  company_location company_size  \n",
       "0               ES            L  \n",
       "1               US            S  \n",
       "2               US            S  \n",
       "3               CA            M  \n",
       "4               CA            M  "
      ]
     },
     "execution_count": 5,
     "metadata": {},
     "output_type": "execute_result"
    }
   ],
   "source": [
    "data.head()"
   ]
  },
  {
   "cell_type": "code",
   "execution_count": 6,
   "id": "6506a253",
   "metadata": {
    "execution": {
     "iopub.execute_input": "2023-04-29T14:46:09.636156Z",
     "iopub.status.busy": "2023-04-29T14:46:09.635684Z",
     "iopub.status.idle": "2023-04-29T14:46:09.664062Z",
     "shell.execute_reply": "2023-04-29T14:46:09.662704Z"
    },
    "papermill": {
     "duration": 0.038685,
     "end_time": "2023-04-29T14:46:09.666768",
     "exception": false,
     "start_time": "2023-04-29T14:46:09.628083",
     "status": "completed"
    },
    "tags": []
   },
   "outputs": [
    {
     "data": {
      "text/html": [
       "<div>\n",
       "<style scoped>\n",
       "    .dataframe tbody tr th:only-of-type {\n",
       "        vertical-align: middle;\n",
       "    }\n",
       "\n",
       "    .dataframe tbody tr th {\n",
       "        vertical-align: top;\n",
       "    }\n",
       "\n",
       "    .dataframe thead th {\n",
       "        text-align: right;\n",
       "    }\n",
       "</style>\n",
       "<table border=\"1\" class=\"dataframe\">\n",
       "  <thead>\n",
       "    <tr style=\"text-align: right;\">\n",
       "      <th></th>\n",
       "      <th>work_year</th>\n",
       "      <th>experience_level</th>\n",
       "      <th>employment_type</th>\n",
       "      <th>job_title</th>\n",
       "      <th>salary</th>\n",
       "      <th>salary_currency</th>\n",
       "      <th>salary_in_usd</th>\n",
       "      <th>employee_residence</th>\n",
       "      <th>remote_ratio</th>\n",
       "      <th>company_location</th>\n",
       "      <th>company_size</th>\n",
       "    </tr>\n",
       "  </thead>\n",
       "  <tbody>\n",
       "    <tr>\n",
       "      <th>0</th>\n",
       "      <td>2023</td>\n",
       "      <td>SE</td>\n",
       "      <td>FT</td>\n",
       "      <td>Principal Data Scientist</td>\n",
       "      <td>80000</td>\n",
       "      <td>EUR</td>\n",
       "      <td>85847</td>\n",
       "      <td>ES</td>\n",
       "      <td>100</td>\n",
       "      <td>ES</td>\n",
       "      <td>L</td>\n",
       "    </tr>\n",
       "    <tr>\n",
       "      <th>1</th>\n",
       "      <td>2023</td>\n",
       "      <td>MI</td>\n",
       "      <td>CT</td>\n",
       "      <td>ML Engineer</td>\n",
       "      <td>30000</td>\n",
       "      <td>USD</td>\n",
       "      <td>30000</td>\n",
       "      <td>US</td>\n",
       "      <td>100</td>\n",
       "      <td>US</td>\n",
       "      <td>S</td>\n",
       "    </tr>\n",
       "    <tr>\n",
       "      <th>2</th>\n",
       "      <td>2023</td>\n",
       "      <td>MI</td>\n",
       "      <td>CT</td>\n",
       "      <td>ML Engineer</td>\n",
       "      <td>25500</td>\n",
       "      <td>USD</td>\n",
       "      <td>25500</td>\n",
       "      <td>US</td>\n",
       "      <td>100</td>\n",
       "      <td>US</td>\n",
       "      <td>S</td>\n",
       "    </tr>\n",
       "    <tr>\n",
       "      <th>3</th>\n",
       "      <td>2023</td>\n",
       "      <td>SE</td>\n",
       "      <td>FT</td>\n",
       "      <td>Data Scientist</td>\n",
       "      <td>175000</td>\n",
       "      <td>USD</td>\n",
       "      <td>175000</td>\n",
       "      <td>CA</td>\n",
       "      <td>100</td>\n",
       "      <td>CA</td>\n",
       "      <td>M</td>\n",
       "    </tr>\n",
       "    <tr>\n",
       "      <th>4</th>\n",
       "      <td>2023</td>\n",
       "      <td>SE</td>\n",
       "      <td>FT</td>\n",
       "      <td>Data Scientist</td>\n",
       "      <td>120000</td>\n",
       "      <td>USD</td>\n",
       "      <td>120000</td>\n",
       "      <td>CA</td>\n",
       "      <td>100</td>\n",
       "      <td>CA</td>\n",
       "      <td>M</td>\n",
       "    </tr>\n",
       "    <tr>\n",
       "      <th>...</th>\n",
       "      <td>...</td>\n",
       "      <td>...</td>\n",
       "      <td>...</td>\n",
       "      <td>...</td>\n",
       "      <td>...</td>\n",
       "      <td>...</td>\n",
       "      <td>...</td>\n",
       "      <td>...</td>\n",
       "      <td>...</td>\n",
       "      <td>...</td>\n",
       "      <td>...</td>\n",
       "    </tr>\n",
       "    <tr>\n",
       "      <th>3750</th>\n",
       "      <td>2020</td>\n",
       "      <td>SE</td>\n",
       "      <td>FT</td>\n",
       "      <td>Data Scientist</td>\n",
       "      <td>412000</td>\n",
       "      <td>USD</td>\n",
       "      <td>412000</td>\n",
       "      <td>US</td>\n",
       "      <td>100</td>\n",
       "      <td>US</td>\n",
       "      <td>L</td>\n",
       "    </tr>\n",
       "    <tr>\n",
       "      <th>3751</th>\n",
       "      <td>2021</td>\n",
       "      <td>MI</td>\n",
       "      <td>FT</td>\n",
       "      <td>Principal Data Scientist</td>\n",
       "      <td>151000</td>\n",
       "      <td>USD</td>\n",
       "      <td>151000</td>\n",
       "      <td>US</td>\n",
       "      <td>100</td>\n",
       "      <td>US</td>\n",
       "      <td>L</td>\n",
       "    </tr>\n",
       "    <tr>\n",
       "      <th>3752</th>\n",
       "      <td>2020</td>\n",
       "      <td>EN</td>\n",
       "      <td>FT</td>\n",
       "      <td>Data Scientist</td>\n",
       "      <td>105000</td>\n",
       "      <td>USD</td>\n",
       "      <td>105000</td>\n",
       "      <td>US</td>\n",
       "      <td>100</td>\n",
       "      <td>US</td>\n",
       "      <td>S</td>\n",
       "    </tr>\n",
       "    <tr>\n",
       "      <th>3753</th>\n",
       "      <td>2020</td>\n",
       "      <td>EN</td>\n",
       "      <td>CT</td>\n",
       "      <td>Business Data Analyst</td>\n",
       "      <td>100000</td>\n",
       "      <td>USD</td>\n",
       "      <td>100000</td>\n",
       "      <td>US</td>\n",
       "      <td>100</td>\n",
       "      <td>US</td>\n",
       "      <td>L</td>\n",
       "    </tr>\n",
       "    <tr>\n",
       "      <th>3754</th>\n",
       "      <td>2021</td>\n",
       "      <td>SE</td>\n",
       "      <td>FT</td>\n",
       "      <td>Data Science Manager</td>\n",
       "      <td>7000000</td>\n",
       "      <td>INR</td>\n",
       "      <td>94665</td>\n",
       "      <td>IN</td>\n",
       "      <td>50</td>\n",
       "      <td>IN</td>\n",
       "      <td>L</td>\n",
       "    </tr>\n",
       "  </tbody>\n",
       "</table>\n",
       "<p>3755 rows × 11 columns</p>\n",
       "</div>"
      ],
      "text/plain": [
       "      work_year experience_level employment_type                 job_title  \\\n",
       "0          2023               SE              FT  Principal Data Scientist   \n",
       "1          2023               MI              CT               ML Engineer   \n",
       "2          2023               MI              CT               ML Engineer   \n",
       "3          2023               SE              FT            Data Scientist   \n",
       "4          2023               SE              FT            Data Scientist   \n",
       "...         ...              ...             ...                       ...   \n",
       "3750       2020               SE              FT            Data Scientist   \n",
       "3751       2021               MI              FT  Principal Data Scientist   \n",
       "3752       2020               EN              FT            Data Scientist   \n",
       "3753       2020               EN              CT     Business Data Analyst   \n",
       "3754       2021               SE              FT      Data Science Manager   \n",
       "\n",
       "       salary salary_currency  salary_in_usd employee_residence  remote_ratio  \\\n",
       "0       80000             EUR          85847                 ES           100   \n",
       "1       30000             USD          30000                 US           100   \n",
       "2       25500             USD          25500                 US           100   \n",
       "3      175000             USD         175000                 CA           100   \n",
       "4      120000             USD         120000                 CA           100   \n",
       "...       ...             ...            ...                ...           ...   \n",
       "3750   412000             USD         412000                 US           100   \n",
       "3751   151000             USD         151000                 US           100   \n",
       "3752   105000             USD         105000                 US           100   \n",
       "3753   100000             USD         100000                 US           100   \n",
       "3754  7000000             INR          94665                 IN            50   \n",
       "\n",
       "     company_location company_size  \n",
       "0                  ES            L  \n",
       "1                  US            S  \n",
       "2                  US            S  \n",
       "3                  CA            M  \n",
       "4                  CA            M  \n",
       "...               ...          ...  \n",
       "3750               US            L  \n",
       "3751               US            L  \n",
       "3752               US            S  \n",
       "3753               US            L  \n",
       "3754               IN            L  \n",
       "\n",
       "[3755 rows x 11 columns]"
      ]
     },
     "execution_count": 6,
     "metadata": {},
     "output_type": "execute_result"
    }
   ],
   "source": [
    "data"
   ]
  },
  {
   "cell_type": "markdown",
   "id": "9d2806ed",
   "metadata": {
    "papermill": {
     "duration": 0.006359,
     "end_time": "2023-04-29T14:46:09.679779",
     "exception": false,
     "start_time": "2023-04-29T14:46:09.673420",
     "status": "completed"
    },
    "tags": []
   },
   "source": [
    "## 3. The booming of Data Science"
   ]
  },
  {
   "cell_type": "code",
   "execution_count": 7,
   "id": "7790b4c0",
   "metadata": {
    "execution": {
     "iopub.execute_input": "2023-04-29T14:46:09.695365Z",
     "iopub.status.busy": "2023-04-29T14:46:09.694914Z",
     "iopub.status.idle": "2023-04-29T14:46:09.992550Z",
     "shell.execute_reply": "2023-04-29T14:46:09.991200Z"
    },
    "papermill": {
     "duration": 0.308821,
     "end_time": "2023-04-29T14:46:09.995198",
     "exception": false,
     "start_time": "2023-04-29T14:46:09.686377",
     "status": "completed"
    },
    "tags": []
   },
   "outputs": [
    {
     "data": {
      "text/plain": [
       "<AxesSubplot:title={'center':'Average Data Science Salaries by year'}, xlabel='Year', ylabel='Mean Salary'>"
      ]
     },
     "execution_count": 7,
     "metadata": {},
     "output_type": "execute_result"
    },
    {
     "data": {
      "image/png": "[encoded data removed]",
      "text/plain": [
       "<Figure size 640x480 with 1 Axes>"
      ]
     },
     "metadata": {},
     "output_type": "display_data"
    }
   ],
   "source": [
    "meanYearlySalary = np.array(data['salary_in_usd'].groupby(data['work_year']).mean())\n",
    "\n",
    "plt.xlabel('Year')\n",
    "plt.ylabel('Mean Salary')\n",
    "plt.title(\"Average Data Science Salaries by year\")\n",
    "sns.lineplot(x=['2020', '2021', '2022', '2023'], y=meanYearlySalary)"
   ]
  },
  {
   "cell_type": "markdown",
   "id": "c5c090e0",
   "metadata": {
    "papermill": {
     "duration": 0.008317,
     "end_time": "2023-04-29T14:46:10.010858",
     "exception": false,
     "start_time": "2023-04-29T14:46:10.002541",
     "status": "completed"
    },
    "tags": []
   },
   "source": [
    "## 4. The top job titles in the market"
   ]
  },
  {
   "cell_type": "code",
   "execution_count": 8,
   "id": "c09ff9d8",
   "metadata": {
    "execution": {
     "iopub.execute_input": "2023-04-29T14:46:10.027268Z",
     "iopub.status.busy": "2023-04-29T14:46:10.026859Z",
     "iopub.status.idle": "2023-04-29T14:46:10.041398Z",
     "shell.execute_reply": "2023-04-29T14:46:10.039880Z"
    },
    "papermill": {
     "duration": 0.025796,
     "end_time": "2023-04-29T14:46:10.043953",
     "exception": false,
     "start_time": "2023-04-29T14:46:10.018157",
     "status": "completed"
    },
    "tags": []
   },
   "outputs": [],
   "source": [
    "allTimeTopTen = data[\"job_title\"].value_counts().nlargest(10).reset_index()\n",
    "topTen2023 = data[data[\"work_year\"]==2023][\"job_title\"].value_counts().nlargest(10).reset_index()"
   ]
  },
  {
   "cell_type": "code",
   "execution_count": 9,
   "id": "0a1d0f7a",
   "metadata": {
    "execution": {
     "iopub.execute_input": "2023-04-29T14:46:10.060918Z",
     "iopub.status.busy": "2023-04-29T14:46:10.059670Z",
     "iopub.status.idle": "2023-04-29T14:46:10.071285Z",
     "shell.execute_reply": "2023-04-29T14:46:10.070093Z"
    },
    "papermill": {
     "duration": 0.022587,
     "end_time": "2023-04-29T14:46:10.073706",
     "exception": false,
     "start_time": "2023-04-29T14:46:10.051119",
     "status": "completed"
    },
    "tags": []
   },
   "outputs": [
    {
     "data": {
      "text/html": [
       "<div>\n",
       "<style scoped>\n",
       "    .dataframe tbody tr th:only-of-type {\n",
       "        vertical-align: middle;\n",
       "    }\n",
       "\n",
       "    .dataframe tbody tr th {\n",
       "        vertical-align: top;\n",
       "    }\n",
       "\n",
       "    .dataframe thead th {\n",
       "        text-align: right;\n",
       "    }\n",
       "</style>\n",
       "<table border=\"1\" class=\"dataframe\">\n",
       "  <thead>\n",
       "    <tr style=\"text-align: right;\">\n",
       "      <th></th>\n",
       "      <th>index</th>\n",
       "      <th>job_title</th>\n",
       "    </tr>\n",
       "  </thead>\n",
       "  <tbody>\n",
       "    <tr>\n",
       "      <th>0</th>\n",
       "      <td>Data Engineer</td>\n",
       "      <td>1040</td>\n",
       "    </tr>\n",
       "    <tr>\n",
       "      <th>1</th>\n",
       "      <td>Data Scientist</td>\n",
       "      <td>840</td>\n",
       "    </tr>\n",
       "    <tr>\n",
       "      <th>2</th>\n",
       "      <td>Data Analyst</td>\n",
       "      <td>612</td>\n",
       "    </tr>\n",
       "    <tr>\n",
       "      <th>3</th>\n",
       "      <td>Machine Learning Engineer</td>\n",
       "      <td>289</td>\n",
       "    </tr>\n",
       "    <tr>\n",
       "      <th>4</th>\n",
       "      <td>Analytics Engineer</td>\n",
       "      <td>103</td>\n",
       "    </tr>\n",
       "    <tr>\n",
       "      <th>5</th>\n",
       "      <td>Data Architect</td>\n",
       "      <td>101</td>\n",
       "    </tr>\n",
       "    <tr>\n",
       "      <th>6</th>\n",
       "      <td>Research Scientist</td>\n",
       "      <td>82</td>\n",
       "    </tr>\n",
       "    <tr>\n",
       "      <th>7</th>\n",
       "      <td>Data Science Manager</td>\n",
       "      <td>58</td>\n",
       "    </tr>\n",
       "    <tr>\n",
       "      <th>8</th>\n",
       "      <td>Applied Scientist</td>\n",
       "      <td>58</td>\n",
       "    </tr>\n",
       "    <tr>\n",
       "      <th>9</th>\n",
       "      <td>Research Engineer</td>\n",
       "      <td>37</td>\n",
       "    </tr>\n",
       "  </tbody>\n",
       "</table>\n",
       "</div>"
      ],
      "text/plain": [
       "                       index  job_title\n",
       "0              Data Engineer       1040\n",
       "1             Data Scientist        840\n",
       "2               Data Analyst        612\n",
       "3  Machine Learning Engineer        289\n",
       "4         Analytics Engineer        103\n",
       "5             Data Architect        101\n",
       "6         Research Scientist         82\n",
       "7       Data Science Manager         58\n",
       "8          Applied Scientist         58\n",
       "9          Research Engineer         37"
      ]
     },
     "execution_count": 9,
     "metadata": {},
     "output_type": "execute_result"
    }
   ],
   "source": [
    "allTimeTopTen"
   ]
  },
  {
   "cell_type": "code",
   "execution_count": 10,
   "id": "b0b7adc1",
   "metadata": {
    "execution": {
     "iopub.execute_input": "2023-04-29T14:46:10.090518Z",
     "iopub.status.busy": "2023-04-29T14:46:10.090069Z",
     "iopub.status.idle": "2023-04-29T14:46:10.101279Z",
     "shell.execute_reply": "2023-04-29T14:46:10.099900Z"
    },
    "papermill": {
     "duration": 0.022662,
     "end_time": "2023-04-29T14:46:10.103817",
     "exception": false,
     "start_time": "2023-04-29T14:46:10.081155",
     "status": "completed"
    },
    "tags": []
   },
   "outputs": [
    {
     "data": {
      "text/html": [
       "<div>\n",
       "<style scoped>\n",
       "    .dataframe tbody tr th:only-of-type {\n",
       "        vertical-align: middle;\n",
       "    }\n",
       "\n",
       "    .dataframe tbody tr th {\n",
       "        vertical-align: top;\n",
       "    }\n",
       "\n",
       "    .dataframe thead th {\n",
       "        text-align: right;\n",
       "    }\n",
       "</style>\n",
       "<table border=\"1\" class=\"dataframe\">\n",
       "  <thead>\n",
       "    <tr style=\"text-align: right;\">\n",
       "      <th></th>\n",
       "      <th>index</th>\n",
       "      <th>job_title</th>\n",
       "    </tr>\n",
       "  </thead>\n",
       "  <tbody>\n",
       "    <tr>\n",
       "      <th>0</th>\n",
       "      <td>Data Engineer</td>\n",
       "      <td>499</td>\n",
       "    </tr>\n",
       "    <tr>\n",
       "      <th>1</th>\n",
       "      <td>Data Scientist</td>\n",
       "      <td>370</td>\n",
       "    </tr>\n",
       "    <tr>\n",
       "      <th>2</th>\n",
       "      <td>Data Analyst</td>\n",
       "      <td>307</td>\n",
       "    </tr>\n",
       "    <tr>\n",
       "      <th>3</th>\n",
       "      <td>Machine Learning Engineer</td>\n",
       "      <td>158</td>\n",
       "    </tr>\n",
       "    <tr>\n",
       "      <th>4</th>\n",
       "      <td>Research Scientist</td>\n",
       "      <td>55</td>\n",
       "    </tr>\n",
       "    <tr>\n",
       "      <th>5</th>\n",
       "      <td>Data Architect</td>\n",
       "      <td>52</td>\n",
       "    </tr>\n",
       "    <tr>\n",
       "      <th>6</th>\n",
       "      <td>Analytics Engineer</td>\n",
       "      <td>46</td>\n",
       "    </tr>\n",
       "    <tr>\n",
       "      <th>7</th>\n",
       "      <td>Applied Scientist</td>\n",
       "      <td>40</td>\n",
       "    </tr>\n",
       "    <tr>\n",
       "      <th>8</th>\n",
       "      <td>Research Engineer</td>\n",
       "      <td>32</td>\n",
       "    </tr>\n",
       "    <tr>\n",
       "      <th>9</th>\n",
       "      <td>Data Manager</td>\n",
       "      <td>22</td>\n",
       "    </tr>\n",
       "  </tbody>\n",
       "</table>\n",
       "</div>"
      ],
      "text/plain": [
       "                       index  job_title\n",
       "0              Data Engineer        499\n",
       "1             Data Scientist        370\n",
       "2               Data Analyst        307\n",
       "3  Machine Learning Engineer        158\n",
       "4         Research Scientist         55\n",
       "5             Data Architect         52\n",
       "6         Analytics Engineer         46\n",
       "7          Applied Scientist         40\n",
       "8          Research Engineer         32\n",
       "9               Data Manager         22"
      ]
     },
     "execution_count": 10,
     "metadata": {},
     "output_type": "execute_result"
    }
   ],
   "source": [
    "topTen2023"
   ]
  },
  {
   "cell_type": "code",
   "execution_count": 11,
   "id": "91ac37c9",
   "metadata": {
    "execution": {
     "iopub.execute_input": "2023-04-29T14:46:10.121592Z",
     "iopub.status.busy": "2023-04-29T14:46:10.120505Z",
     "iopub.status.idle": "2023-04-29T14:46:10.425363Z",
     "shell.execute_reply": "2023-04-29T14:46:10.424052Z"
    },
    "papermill": {
     "duration": 0.316509,
     "end_time": "2023-04-29T14:46:10.427967",
     "exception": false,
     "start_time": "2023-04-29T14:46:10.111458",
     "status": "completed"
    },
    "tags": []
   },
   "outputs": [
    {
     "data": {
      "text/plain": [
       "Text(0, 0.5, 'Job Title')"
      ]
     },
     "execution_count": 11,
     "metadata": {},
     "output_type": "execute_result"
    },
    {
     "data": {
      "image/png": "[encoded data removed]",
      "text/plain": [
       "<Figure size 640x480 with 1 Axes>"
      ]
     },
     "metadata": {},
     "output_type": "display_data"
    }
   ],
   "source": [
    "sns.barplot(x=allTimeTopTen[\"job_title\"], y=allTimeTopTen[\"index\"])\n",
    "plt.title(\"Top 10 Data Science job titles of all time\")\n",
    "plt.xlabel(\"Count\")\n",
    "plt.ylabel(\"Job Title\")"
   ]
  },
  {
   "cell_type": "code",
   "execution_count": 12,
   "id": "2bf2bc9b",
   "metadata": {
    "execution": {
     "iopub.execute_input": "2023-04-29T14:46:10.447164Z",
     "iopub.status.busy": "2023-04-29T14:46:10.446399Z",
     "iopub.status.idle": "2023-04-29T14:46:10.756653Z",
     "shell.execute_reply": "2023-04-29T14:46:10.755118Z"
    },
    "papermill": {
     "duration": 0.323384,
     "end_time": "2023-04-29T14:46:10.759853",
     "exception": false,
     "start_time": "2023-04-29T14:46:10.436469",
     "status": "completed"
    },
    "tags": []
   },
   "outputs": [
    {
     "data": {
      "text/plain": [
       "Text(0, 0.5, 'Job Title')"
      ]
     },
     "execution_count": 12,
     "metadata": {},
     "output_type": "execute_result"
    },
    {
     "data": {
      "image/png": "[encoded data removed]",
      "text/plain": [
       "<Figure size 640x480 with 1 Axes>"
      ]
     },
     "metadata": {},
     "output_type": "display_data"
    }
   ],
   "source": [
    "sns.barplot(x=topTen2023[\"job_title\"], y=topTen2023[\"index\"])\n",
    "plt.title(\"Top 10 Data Science Job Titles in 2023\")\n",
    "plt.xlabel(\"Count\")\n",
    "plt.ylabel(\"Job Title\")"
   ]
  },
  {
   "cell_type": "markdown",
   "id": "4224838f",
   "metadata": {
    "papermill": {
     "duration": 0.008889,
     "end_time": "2023-04-29T14:46:10.778221",
     "exception": false,
     "start_time": "2023-04-29T14:46:10.769332",
     "status": "completed"
    },
    "tags": []
   },
   "source": [
    "## 5. Top Salaries"
   ]
  },
  {
   "cell_type": "code",
   "execution_count": 13,
   "id": "9bebcb85",
   "metadata": {
    "execution": {
     "iopub.execute_input": "2023-04-29T14:46:10.798822Z",
     "iopub.status.busy": "2023-04-29T14:46:10.798373Z",
     "iopub.status.idle": "2023-04-29T14:46:10.818827Z",
     "shell.execute_reply": "2023-04-29T14:46:10.817193Z"
    },
    "papermill": {
     "duration": 0.035086,
     "end_time": "2023-04-29T14:46:10.822643",
     "exception": false,
     "start_time": "2023-04-29T14:46:10.787557",
     "status": "completed"
    },
    "tags": []
   },
   "outputs": [
    {
     "data": {
      "text/html": [
       "<div>\n",
       "<style scoped>\n",
       "    .dataframe tbody tr th:only-of-type {\n",
       "        vertical-align: middle;\n",
       "    }\n",
       "\n",
       "    .dataframe tbody tr th {\n",
       "        vertical-align: top;\n",
       "    }\n",
       "\n",
       "    .dataframe thead th {\n",
       "        text-align: right;\n",
       "    }\n",
       "</style>\n",
       "<table border=\"1\" class=\"dataframe\">\n",
       "  <thead>\n",
       "    <tr style=\"text-align: right;\">\n",
       "      <th></th>\n",
       "      <th>index</th>\n",
       "      <th>salary_in_usd</th>\n",
       "    </tr>\n",
       "  </thead>\n",
       "  <tbody>\n",
       "    <tr>\n",
       "      <th>3</th>\n",
       "      <td>Data Architect</td>\n",
       "      <td>222200.0</td>\n",
       "    </tr>\n",
       "    <tr>\n",
       "      <th>1</th>\n",
       "      <td>Applied Scientist</td>\n",
       "      <td>219000.0</td>\n",
       "    </tr>\n",
       "    <tr>\n",
       "      <th>7</th>\n",
       "      <td>Machine Learning Engineer</td>\n",
       "      <td>175000.0</td>\n",
       "    </tr>\n",
       "    <tr>\n",
       "      <th>5</th>\n",
       "      <td>Data Manager</td>\n",
       "      <td>147100.0</td>\n",
       "    </tr>\n",
       "    <tr>\n",
       "      <th>8</th>\n",
       "      <td>Research Engineer</td>\n",
       "      <td>141000.0</td>\n",
       "    </tr>\n",
       "    <tr>\n",
       "      <th>0</th>\n",
       "      <td>Analytics Engineer</td>\n",
       "      <td>136000.0</td>\n",
       "    </tr>\n",
       "    <tr>\n",
       "      <th>9</th>\n",
       "      <td>Research Scientist</td>\n",
       "      <td>120000.0</td>\n",
       "    </tr>\n",
       "    <tr>\n",
       "      <th>4</th>\n",
       "      <td>Data Engineer</td>\n",
       "      <td>85847.0</td>\n",
       "    </tr>\n",
       "    <tr>\n",
       "      <th>6</th>\n",
       "      <td>Data Scientist</td>\n",
       "      <td>30000.0</td>\n",
       "    </tr>\n",
       "    <tr>\n",
       "      <th>2</th>\n",
       "      <td>Data Analyst</td>\n",
       "      <td>25500.0</td>\n",
       "    </tr>\n",
       "  </tbody>\n",
       "</table>\n",
       "</div>"
      ],
      "text/plain": [
       "                       index  salary_in_usd\n",
       "3             Data Architect       222200.0\n",
       "1          Applied Scientist       219000.0\n",
       "7  Machine Learning Engineer       175000.0\n",
       "5               Data Manager       147100.0\n",
       "8          Research Engineer       141000.0\n",
       "0         Analytics Engineer       136000.0\n",
       "9         Research Scientist       120000.0\n",
       "4              Data Engineer        85847.0\n",
       "6             Data Scientist        30000.0\n",
       "2               Data Analyst        25500.0"
      ]
     },
     "execution_count": 13,
     "metadata": {},
     "output_type": "execute_result"
    }
   ],
   "source": [
    "topSalaryInTopTen = data['salary_in_usd'].groupby(topTen2023['index']).mean().reset_index().sort_values('salary_in_usd', ascending=False)\n",
    "topSalaryInTopTen"
   ]
  },
  {
   "cell_type": "code",
   "execution_count": 14,
   "id": "9934389f",
   "metadata": {
    "execution": {
     "iopub.execute_input": "2023-04-29T14:46:10.845823Z",
     "iopub.status.busy": "2023-04-29T14:46:10.844586Z",
     "iopub.status.idle": "2023-04-29T14:46:11.159558Z",
     "shell.execute_reply": "2023-04-29T14:46:11.158421Z"
    },
    "papermill": {
     "duration": 0.329019,
     "end_time": "2023-04-29T14:46:11.162313",
     "exception": false,
     "start_time": "2023-04-29T14:46:10.833294",
     "status": "completed"
    },
    "tags": []
   },
   "outputs": [
    {
     "data": {
      "text/plain": [
       "Text(0.5, 1.0, 'Average Salary of Top Ten Job titles in 2023')"
      ]
     },
     "execution_count": 14,
     "metadata": {},
     "output_type": "execute_result"
    },
    {
     "data": {
      "image/png": "[encoded data removed]",
      "text/plain": [
       "<Figure size 640x480 with 1 Axes>"
      ]
     },
     "metadata": {},
     "output_type": "display_data"
    }
   ],
   "source": [
    "sns.barplot(x=topSalaryInTopTen['salary_in_usd'], y=topSalaryInTopTen['index'])\n",
    "plt.xlabel('Average Salary')\n",
    "plt.ylabel('Job Titles')\n",
    "plt.title('Average Salary of Top Ten Job titles in 2023')"
   ]
  },
  {
   "cell_type": "code",
   "execution_count": 15,
   "id": "44e0b8d0",
   "metadata": {
    "execution": {
     "iopub.execute_input": "2023-04-29T14:46:11.185342Z",
     "iopub.status.busy": "2023-04-29T14:46:11.184867Z",
     "iopub.status.idle": "2023-04-29T14:46:11.208155Z",
     "shell.execute_reply": "2023-04-29T14:46:11.206845Z"
    },
    "papermill": {
     "duration": 0.038389,
     "end_time": "2023-04-29T14:46:11.211363",
     "exception": false,
     "start_time": "2023-04-29T14:46:11.172974",
     "status": "completed"
    },
    "tags": []
   },
   "outputs": [
    {
     "data": {
      "text/html": [
       "<div>\n",
       "<style scoped>\n",
       "    .dataframe tbody tr th:only-of-type {\n",
       "        vertical-align: middle;\n",
       "    }\n",
       "\n",
       "    .dataframe tbody tr th {\n",
       "        vertical-align: top;\n",
       "    }\n",
       "\n",
       "    .dataframe thead th {\n",
       "        text-align: right;\n",
       "    }\n",
       "</style>\n",
       "<table border=\"1\" class=\"dataframe\">\n",
       "  <thead>\n",
       "    <tr style=\"text-align: right;\">\n",
       "      <th></th>\n",
       "      <th>job_title</th>\n",
       "      <th>work_year</th>\n",
       "      <th>salary</th>\n",
       "      <th>salary_in_usd</th>\n",
       "      <th>remote_ratio</th>\n",
       "    </tr>\n",
       "  </thead>\n",
       "  <tbody>\n",
       "    <tr>\n",
       "      <th>0</th>\n",
       "      <td>AI Scientist</td>\n",
       "      <td>2023.0</td>\n",
       "      <td>1500000.0</td>\n",
       "      <td>423834.0</td>\n",
       "      <td>0.0</td>\n",
       "    </tr>\n",
       "    <tr>\n",
       "      <th>3</th>\n",
       "      <td>Data Analyst</td>\n",
       "      <td>2023.0</td>\n",
       "      <td>385000.0</td>\n",
       "      <td>385000.0</td>\n",
       "      <td>0.0</td>\n",
       "    </tr>\n",
       "    <tr>\n",
       "      <th>4</th>\n",
       "      <td>Data Architect</td>\n",
       "      <td>2023.0</td>\n",
       "      <td>376080.0</td>\n",
       "      <td>376080.0</td>\n",
       "      <td>100.0</td>\n",
       "    </tr>\n",
       "    <tr>\n",
       "      <th>5</th>\n",
       "      <td>Data Scientist</td>\n",
       "      <td>2023.0</td>\n",
       "      <td>370000.0</td>\n",
       "      <td>370000.0</td>\n",
       "      <td>0.0</td>\n",
       "    </tr>\n",
       "    <tr>\n",
       "      <th>8</th>\n",
       "      <td>Research Scientist</td>\n",
       "      <td>2023.0</td>\n",
       "      <td>355000.0</td>\n",
       "      <td>355000.0</td>\n",
       "      <td>50.0</td>\n",
       "    </tr>\n",
       "    <tr>\n",
       "      <th>6</th>\n",
       "      <td>Director of Data Science</td>\n",
       "      <td>2023.0</td>\n",
       "      <td>353200.0</td>\n",
       "      <td>353200.0</td>\n",
       "      <td>0.0</td>\n",
       "    </tr>\n",
       "    <tr>\n",
       "      <th>1</th>\n",
       "      <td>Applied Scientist</td>\n",
       "      <td>2023.0</td>\n",
       "      <td>350000.0</td>\n",
       "      <td>350000.0</td>\n",
       "      <td>0.0</td>\n",
       "    </tr>\n",
       "    <tr>\n",
       "      <th>2</th>\n",
       "      <td>Computer Vision Engineer</td>\n",
       "      <td>2023.0</td>\n",
       "      <td>342810.0</td>\n",
       "      <td>342810.0</td>\n",
       "      <td>0.0</td>\n",
       "    </tr>\n",
       "    <tr>\n",
       "      <th>7</th>\n",
       "      <td>Machine Learning Engineer</td>\n",
       "      <td>2023.0</td>\n",
       "      <td>342300.0</td>\n",
       "      <td>342300.0</td>\n",
       "      <td>0.0</td>\n",
       "    </tr>\n",
       "  </tbody>\n",
       "</table>\n",
       "</div>"
      ],
      "text/plain": [
       "                   job_title  work_year     salary  salary_in_usd  \\\n",
       "0               AI Scientist     2023.0  1500000.0       423834.0   \n",
       "3               Data Analyst     2023.0   385000.0       385000.0   \n",
       "4             Data Architect     2023.0   376080.0       376080.0   \n",
       "5             Data Scientist     2023.0   370000.0       370000.0   \n",
       "8         Research Scientist     2023.0   355000.0       355000.0   \n",
       "6   Director of Data Science     2023.0   353200.0       353200.0   \n",
       "1          Applied Scientist     2023.0   350000.0       350000.0   \n",
       "2   Computer Vision Engineer     2023.0   342810.0       342810.0   \n",
       "7  Machine Learning Engineer     2023.0   342300.0       342300.0   \n",
       "\n",
       "   remote_ratio  \n",
       "0           0.0  \n",
       "3           0.0  \n",
       "4         100.0  \n",
       "5           0.0  \n",
       "8          50.0  \n",
       "6           0.0  \n",
       "1           0.0  \n",
       "2           0.0  \n",
       "7           0.0  "
      ]
     },
     "execution_count": 15,
     "metadata": {},
     "output_type": "execute_result"
    }
   ],
   "source": [
    "topSalaryJobs = data[data['work_year'] == 2023].nlargest(10, 'salary_in_usd').groupby('job_title').mean().reset_index().sort_values('salary_in_usd', ascending=False)\n",
    "topSalaryJobs"
   ]
  },
  {
   "cell_type": "code",
   "execution_count": 16,
   "id": "2bf0a7e3",
   "metadata": {
    "execution": {
     "iopub.execute_input": "2023-04-29T14:46:11.235345Z",
     "iopub.status.busy": "2023-04-29T14:46:11.234916Z",
     "iopub.status.idle": "2023-04-29T14:46:11.601257Z",
     "shell.execute_reply": "2023-04-29T14:46:11.599920Z"
    },
    "papermill": {
     "duration": 0.381868,
     "end_time": "2023-04-29T14:46:11.603980",
     "exception": false,
     "start_time": "2023-04-29T14:46:11.222112",
     "status": "completed"
    },
    "tags": []
   },
   "outputs": [
    {
     "data": {
      "text/plain": [
       "Text(0.5, 1.0, 'Jobs Fetching Highest Salaries in 2023')"
      ]
     },
     "execution_count": 16,
     "metadata": {},
     "output_type": "execute_result"
    },
    {
     "data": {
      "image/png": "[encoded data removed]",
      "text/plain": [
       "<Figure size 1600x600 with 1 Axes>"
      ]
     },
     "metadata": {},
     "output_type": "display_data"
    }
   ],
   "source": [
    "plt.figure(figsize=(16, 6))\n",
    "\n",
    "sns.barplot(x=topSalaryJobs['salary_in_usd'], y=topSalaryJobs['job_title'])\n",
    "plt.xlabel('Salary in USD')\n",
    "plt.ylabel('Job Titles')\n",
    "plt.title('Jobs Fetching Highest Salaries in 2023')"
   ]
  },
  {
   "cell_type": "code",
   "execution_count": 17,
   "id": "00caeb5d",
   "metadata": {
    "execution": {
     "iopub.execute_input": "2023-04-29T14:46:11.629910Z",
     "iopub.status.busy": "2023-04-29T14:46:11.628417Z",
     "iopub.status.idle": "2023-04-29T14:46:11.634904Z",
     "shell.execute_reply": "2023-04-29T14:46:11.633599Z"
    },
    "papermill": {
     "duration": 0.022226,
     "end_time": "2023-04-29T14:46:11.637807",
     "exception": false,
     "start_time": "2023-04-29T14:46:11.615581",
     "status": "completed"
    },
    "tags": []
   },
   "outputs": [],
   "source": [
    "#TODO: Progression of salary with experience"
   ]
  },
  {
   "cell_type": "markdown",
   "id": "c6747f64",
   "metadata": {
    "papermill": {
     "duration": 0.011373,
     "end_time": "2023-04-29T14:46:11.660779",
     "exception": false,
     "start_time": "2023-04-29T14:46:11.649406",
     "status": "completed"
    },
    "tags": []
   },
   "source": [
    "#### Thank you for reading this notebook. I might update it with more visualizations sometime later.\n",
    "#### Have a great day! :)"
   ]
  }
 ],
 "metadata": {
  "kernelspec": {
   "display_name": "Python 3",
   "language": "python",
   "name": "python3"
  },
  "language_info": {
   "codemirror_mode": {
    "name": "ipython",
    "version": 3
   },
   "file_extension": ".py",
   "mimetype": "text/x-python",
   "name": "python",
   "nbconvert_exporter": "python",
   "pygments_lexer": "ipython3",
   "version": "3.7.12"
  },
  "papermill": {
   "default_parameters": {},
   "duration": 28.411011,
   "end_time": "2023-04-29T14:46:12.496175",
   "environment_variables": {},
   "exception": null,
   "input_path": "__notebook__.ipynb",
   "output_path": "__notebook__.ipynb",
   "parameters": {},
   "start_time": "2023-04-29T14:45:44.085164",
   "version": "2.4.0"
  }
 },
 "nbformat": 4,
 "nbformat_minor": 5
}
